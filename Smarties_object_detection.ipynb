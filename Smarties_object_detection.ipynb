{
 "cells": [
  {
   "cell_type": "markdown",
   "metadata": {},
   "source": [
    "# Aufgabe 1"
   ]
  },
  {
   "cell_type": "markdown",
   "metadata": {},
   "source": [
    "Bei den nächsten Aufgaben habe ich mich dafür entschieden ein CNN für die Object detection zu verwenden. Ein problem bei der Erkennung der Smarties mithilfe von Farbfiltern, waren die verschiednen belichtungen. Weshalb ich eine andere option gewählt habe. \n",
    "Zunächst muss die Bibliothek Pytorch und Ultralytics installiert werden und importiert werden. "
   ]
  },
  {
   "cell_type": "code",
   "execution_count": 1,
   "metadata": {},
   "outputs": [],
   "source": [
    "from ultralytics import YOLO\n"
   ]
  },
  {
   "cell_type": "markdown",
   "metadata": {},
   "source": [
    "Mithilfe eines Datasets wird ein Yolo Netz trainiert. Das Dataset kann entweder selbst erstellt werden oder aus dem Internet heruntergeladen werden. In diesem Fall habe ich ein Dataset von der Website Roboflow heruntergeladen, welches 400 Bilder von annotierten Skittles beinhaltet. das Dataset ist unter dem Link erhätlich: https://universe.roboflow.com/ds/1KJcTKgf22?key=iQhRha9TPd"
   ]
  },
  {
   "cell_type": "markdown",
   "metadata": {},
   "source": [
    "# Download des Datasets für ein eigenes Training.\n",
    "Das fertige Netz steht auch schon zur verfügung, für die Aufgaben muss kein neues trainert werden ;) "
   ]
  },
  {
   "cell_type": "code",
   "execution_count": null,
   "metadata": {},
   "outputs": [],
   "source": [
    "!pip install --user roboflow\n",
    "from roboflow import Roboflow\n",
    "rf = Roboflow(api_key=\"XuJUQ9cU15uT5dIesSkk\")\n",
    "project = rf.workspace(\"ukasz-ukaszewski\").project(\"skittles-fu5lr\")\n",
    "dataset = project.version(1).download(\"yolov8\")\n"
   ]
  },
  {
   "cell_type": "markdown",
   "metadata": {},
   "source": [
    "Das Dataset muss noch bearbeitet werden, damit nur die Smarties unabhägning von ihrer Farbe erkannt werden müssen alle Labels auf \"0\" gesetzt werden. "
   ]
  },
  {
   "cell_type": "markdown",
   "metadata": {},
   "source": [
    "## Training eines eigenen Yolov8-Netztes (mit GPU!!!)"
   ]
  },
  {
   "cell_type": "code",
   "execution_count": null,
   "metadata": {},
   "outputs": [],
   "source": []
  }
 ],
 "metadata": {
  "kernelspec": {
   "display_name": "Python 3",
   "language": "python",
   "name": "python3"
  },
  "language_info": {
   "codemirror_mode": {
    "name": "ipython",
    "version": 3
   },
   "file_extension": ".py",
   "mimetype": "text/x-python",
   "name": "python",
   "nbconvert_exporter": "python",
   "pygments_lexer": "ipython3",
   "version": "3.11.6"
  }
 },
 "nbformat": 4,
 "nbformat_minor": 2
}
