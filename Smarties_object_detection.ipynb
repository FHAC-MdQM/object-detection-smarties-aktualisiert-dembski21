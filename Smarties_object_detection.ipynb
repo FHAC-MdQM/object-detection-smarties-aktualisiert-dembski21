{
 "cells": [
  {
   "cell_type": "markdown",
   "metadata": {},
   "source": [
    "# Aufgabe 1"
   ]
  },
  {
   "cell_type": "markdown",
   "metadata": {},
   "source": [
    "Bei den nächsten Aufgaben habe ich mich dafür entschieden ein CNN für die Object detection zu verwenden. Ein problem bei der Erkennung der Smarties mithilfe von Farbfiltern, waren die verschiednen belichtungen. Weshalb ich eine andere option gewählt habe. \n",
    "Zunächst muss die Bibliothek Pytorch und Ultralytics installiert werden und importiert werden. "
   ]
  },
  {
   "cell_type": "code",
   "execution_count": 1,
   "metadata": {},
   "outputs": [],
   "source": [
    "from ultralytics import YOLO\n"
   ]
  },
  {
   "cell_type": "markdown",
   "metadata": {},
   "source": [
    "Mithilfe eines Datasets wird ein Yolo Netz trainiert. Das Dataset kann entweder selbst erstellt werden oder aus dem Internet heruntergeladen werden. In diesem Fall habe ich ein Dataset von der Website Roboflow heruntergeladen, welches 400 Bilder von annotierten Skittles beinhaltet. das Dataset ist unter dem Link erhätlich: https://universe.roboflow.com/ds/1KJcTKgf22?key=iQhRha9TPd"
   ]
  },
  {
   "cell_type": "markdown",
   "metadata": {},
   "source": [
    "# Download des Datasets für ein eigenes Training.\n",
    "Das fertige Netz steht auch schon zur verfügung, für die Aufgaben muss kein neues trainert werden ;) "
   ]
  },
  {
   "cell_type": "code",
   "execution_count": 9,
   "metadata": {},
   "outputs": [
    {
     "name": "stdout",
     "output_type": "stream",
     "text": [
      "Collecting roboflow\n",
      "  Obtaining dependency information for roboflow from https://files.pythonhosted.org/packages/33/5d/0b0b6a9e5e62cb79dd86c335a6c7f25e8f204d2f724496af0cba08058306/roboflow-1.1.9-py3-none-any.whl.metadata\n",
      "  Using cached roboflow-1.1.9-py3-none-any.whl.metadata (9.1 kB)\n",
      "Requirement already satisfied: certifi==2023.7.22 in c:\\users\\david\\appdata\\local\\programs\\python\\python311\\lib\\site-packages (from roboflow) (2023.7.22)\n",
      "Collecting chardet==4.0.0 (from roboflow)\n",
      "  Using cached chardet-4.0.0-py2.py3-none-any.whl (178 kB)\n",
      "Collecting cycler==0.10.0 (from roboflow)\n",
      "  Using cached cycler-0.10.0-py2.py3-none-any.whl (6.5 kB)\n",
      "Collecting idna==2.10 (from roboflow)\n",
      "  Using cached idna-2.10-py2.py3-none-any.whl (58 kB)\n",
      "Requirement already satisfied: kiwisolver>=1.3.1 in c:\\users\\david\\appdata\\local\\programs\\python\\python311\\lib\\site-packages (from roboflow) (1.4.5)\n",
      "Requirement already satisfied: matplotlib in c:\\users\\david\\appdata\\local\\programs\\python\\python311\\lib\\site-packages (from roboflow) (3.8.1)\n",
      "Requirement already satisfied: numpy>=1.18.5 in c:\\users\\david\\appdata\\local\\programs\\python\\python311\\lib\\site-packages (from roboflow) (1.26.2)\n",
      "Collecting opencv-python-headless==4.8.0.74 (from roboflow)\n",
      "  Obtaining dependency information for opencv-python-headless==4.8.0.74 from https://files.pythonhosted.org/packages/60/e7/a6dedca760db7a4686fd3b6053487ad4ad4d8f0591295dc8a9cf35269c42/opencv_python_headless-4.8.0.74-cp37-abi3-win_amd64.whl.metadata\n",
      "  Using cached opencv_python_headless-4.8.0.74-cp37-abi3-win_amd64.whl.metadata (19 kB)\n",
      "Requirement already satisfied: Pillow>=7.1.2 in c:\\users\\david\\appdata\\local\\programs\\python\\python311\\lib\\site-packages (from roboflow) (10.1.0)\n",
      "Requirement already satisfied: pyparsing==2.4.7 in c:\\users\\david\\appdata\\local\\programs\\python\\python311\\lib\\site-packages (from roboflow) (2.4.7)\n",
      "Requirement already satisfied: python-dateutil in c:\\users\\david\\appdata\\local\\programs\\python\\python311\\lib\\site-packages (from roboflow) (2.8.2)\n",
      "Requirement already satisfied: python-dotenv in c:\\users\\david\\appdata\\local\\programs\\python\\python311\\lib\\site-packages (from roboflow) (1.0.0)\n",
      "Requirement already satisfied: requests in c:\\users\\david\\appdata\\local\\programs\\python\\python311\\lib\\site-packages (from roboflow) (2.31.0)\n",
      "Requirement already satisfied: six in c:\\users\\david\\appdata\\local\\programs\\python\\python311\\lib\\site-packages (from roboflow) (1.16.0)\n",
      "Collecting supervision (from roboflow)\n",
      "  Obtaining dependency information for supervision from https://files.pythonhosted.org/packages/c0/59/6bc863f530c0ba5da4c565fd40f17b2b333c2ab28b783202937293ae494a/supervision-0.16.0-py3-none-any.whl.metadata\n",
      "  Using cached supervision-0.16.0-py3-none-any.whl.metadata (14 kB)\n",
      "Requirement already satisfied: urllib3>=1.26.6 in c:\\users\\david\\appdata\\local\\programs\\python\\python311\\lib\\site-packages (from roboflow) (2.1.0)\n",
      "Requirement already satisfied: tqdm>=4.41.0 in c:\\users\\david\\appdata\\local\\programs\\python\\python311\\lib\\site-packages (from roboflow) (4.66.1)\n",
      "Requirement already satisfied: PyYAML>=5.3.1 in c:\\users\\david\\appdata\\local\\programs\\python\\python311\\lib\\site-packages (from roboflow) (6.0.1)\n",
      "Collecting requests-toolbelt (from roboflow)\n",
      "  Using cached requests_toolbelt-1.0.0-py2.py3-none-any.whl (54 kB)\n",
      "Requirement already satisfied: python-magic in c:\\users\\david\\appdata\\local\\programs\\python\\python311\\lib\\site-packages (from roboflow) (0.4.27)\n",
      "Requirement already satisfied: colorama in c:\\users\\david\\appdata\\local\\programs\\python\\python311\\lib\\site-packages (from tqdm>=4.41.0->roboflow) (0.4.6)\n",
      "Requirement already satisfied: contourpy>=1.0.1 in c:\\users\\david\\appdata\\local\\programs\\python\\python311\\lib\\site-packages (from matplotlib->roboflow) (1.2.0)\n",
      "Requirement already satisfied: fonttools>=4.22.0 in c:\\users\\david\\appdata\\local\\programs\\python\\python311\\lib\\site-packages (from matplotlib->roboflow) (4.44.0)\n",
      "Requirement already satisfied: packaging>=20.0 in c:\\users\\david\\appdata\\local\\programs\\python\\python311\\lib\\site-packages (from matplotlib->roboflow) (23.2)\n",
      "Requirement already satisfied: charset-normalizer<4,>=2 in c:\\users\\david\\appdata\\local\\programs\\python\\python311\\lib\\site-packages (from requests->roboflow) (3.3.2)\n",
      "Requirement already satisfied: scipy<2.0.0,>=1.9.0 in c:\\users\\david\\appdata\\local\\programs\\python\\python311\\lib\\site-packages (from supervision->roboflow) (1.11.3)\n",
      "Using cached roboflow-1.1.9-py3-none-any.whl (63 kB)\n",
      "Using cached opencv_python_headless-4.8.0.74-cp37-abi3-win_amd64.whl (38.0 MB)\n",
      "Using cached supervision-0.16.0-py3-none-any.whl (72 kB)\n",
      "Installing collected packages: opencv-python-headless, idna, cycler, chardet, supervision, requests-toolbelt, roboflow\n",
      "Successfully installed chardet-4.0.0 cycler-0.10.0 idna-2.10 opencv-python-headless-4.8.0.74 requests-toolbelt-1.0.0 roboflow-1.1.9 supervision-0.16.0\n"
     ]
    },
    {
     "name": "stderr",
     "output_type": "stream",
     "text": [
      "\n",
      "[notice] A new release of pip is available: 23.2.1 -> 23.3.1\n",
      "[notice] To update, run: python.exe -m pip install --upgrade pip\n"
     ]
    },
    {
     "name": "stdout",
     "output_type": "stream",
     "text": [
      "loading Roboflow workspace...\n",
      "loading Roboflow project...\n",
      "Dependency ultralytics==8.0.196 is required but found version=8.0.209, to fix: `pip install ultralytics==8.0.196`\n"
     ]
    },
    {
     "name": "stderr",
     "output_type": "stream",
     "text": [
      "Downloading Dataset Version Zip in skittles-1 to yolov8:: 100%|██████████| 13727/13727 [00:01<00:00, 9182.82it/s] "
     ]
    },
    {
     "name": "stdout",
     "output_type": "stream",
     "text": [
      "\n"
     ]
    },
    {
     "name": "stderr",
     "output_type": "stream",
     "text": [
      "\n",
      "Extracting Dataset Version Zip to skittles-1 in yolov8:: 100%|██████████| 812/812 [00:00<00:00, 1184.20it/s]\n"
     ]
    }
   ],
   "source": [
    "!pip install --user roboflow\n",
    "from roboflow import Roboflow\n",
    "rf = Roboflow(api_key=\"XuJUQ9cU15uT5dIesSkk\")\n",
    "project = rf.workspace(\"ukasz-ukaszewski\").project(\"skittles-fu5lr\")\n",
    "dataset = project.version(1).download(\"yolov8\")\n"
   ]
  },
  {
   "cell_type": "markdown",
   "metadata": {},
   "source": [
    "Das Dataset muss noch bearbeitet werden, damit nur die Smarties unabhägning von ihrer Farbe erkannt werden müssen alle Labels auf \"0\" gesetzt werden. "
   ]
  },
  {
   "cell_type": "markdown",
   "metadata": {},
   "source": [
    "## Training eines eigenen Yolov8-Netztes (mit GPU!!!)"
   ]
  },
  {
   "cell_type": "code",
   "execution_count": null,
   "metadata": {},
   "outputs": [],
   "source": []
  }
 ],
 "metadata": {
  "kernelspec": {
   "display_name": "Python 3",
   "language": "python",
   "name": "python3"
  },
  "language_info": {
   "codemirror_mode": {
    "name": "ipython",
    "version": 3
   },
   "file_extension": ".py",
   "mimetype": "text/x-python",
   "name": "python",
   "nbconvert_exporter": "python",
   "pygments_lexer": "ipython3",
   "version": "3.11.6"
  }
 },
 "nbformat": 4,
 "nbformat_minor": 2
}
